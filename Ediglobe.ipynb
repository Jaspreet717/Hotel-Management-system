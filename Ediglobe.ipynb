{
  "nbformat": 4,
  "nbformat_minor": 0,
  "metadata": {
    "colab": {
      "provenance": []
    },
    "kernelspec": {
      "name": "python3",
      "display_name": "Python 3"
    },
    "language_info": {
      "name": "python"
    }
  },
  "cells": [
    {
      "cell_type": "markdown",
      "source": [
        "#  Prime time to secure a hotel room"
      ],
      "metadata": {
        "id": "uCMWT11bFge5"
      }
    },
    {
      "cell_type": "markdown",
      "source": [
        "**LOADING THE DATASET**"
      ],
      "metadata": {
        "id": "I376gSfyCZxO"
      }
    },
    {
      "cell_type": "code",
      "source": [
        "# Load the dataset\n",
        "import pandas as pd\n",
        "import numpy as np\n",
        "df = pd.read_csv('/content/Hotel Bookings Ediglobe.csv')\n",
        "\n",
        "# Display the first few rows of the dataset\n",
        "print(df.head())\n"
      ],
      "metadata": {
        "id": "vY09GNv5MjGJ",
        "colab": {
          "base_uri": "https://localhost:8080/"
        },
        "outputId": "f2edea3a-ef68-4d6e-8676-459b2e8efdd7"
      },
      "execution_count": null,
      "outputs": [
        {
          "output_type": "stream",
          "name": "stdout",
          "text": [
            "          hotel  is_canceled  lead_time  arrival_date_year arrival_date_month  \\\n",
            "0  Resort Hotel            0        342               2015               July   \n",
            "1  Resort Hotel            0        737               2015               July   \n",
            "2  Resort Hotel            0          7               2015               July   \n",
            "3  Resort Hotel            0         13               2015               July   \n",
            "4  Resort Hotel            0         14               2015               July   \n",
            "\n",
            "   arrival_date_week_number  arrival_date_day_of_month  \\\n",
            "0                        27                          1   \n",
            "1                        27                          1   \n",
            "2                        27                          1   \n",
            "3                        27                          1   \n",
            "4                        27                          1   \n",
            "\n",
            "   stays_in_weekend_nights  stays_in_week_nights  adults  ...  deposit_type  \\\n",
            "0                        0                     0       2  ...    No Deposit   \n",
            "1                        0                     0       2  ...    No Deposit   \n",
            "2                        0                     1       1  ...    No Deposit   \n",
            "3                        0                     1       1  ...    No Deposit   \n",
            "4                        0                     2       2  ...    No Deposit   \n",
            "\n",
            "   agent company days_in_waiting_list customer_type   adr  \\\n",
            "0    NaN     NaN                    0     Transient   0.0   \n",
            "1    NaN     NaN                    0     Transient   0.0   \n",
            "2    NaN     NaN                    0     Transient  75.0   \n",
            "3  304.0     NaN                    0     Transient  75.0   \n",
            "4  240.0     NaN                    0     Transient  98.0   \n",
            "\n",
            "   required_car_parking_spaces  total_of_special_requests  reservation_status  \\\n",
            "0                            0                          0           Check-Out   \n",
            "1                            0                          0           Check-Out   \n",
            "2                            0                          0           Check-Out   \n",
            "3                            0                          0           Check-Out   \n",
            "4                            0                          1           Check-Out   \n",
            "\n",
            "  reservation_status_date  \n",
            "0              2015-07-01  \n",
            "1              2015-07-01  \n",
            "2              2015-07-02  \n",
            "3              2015-07-02  \n",
            "4              2015-07-03  \n",
            "\n",
            "[5 rows x 32 columns]\n"
          ]
        }
      ]
    },
    {
      "cell_type": "markdown",
      "source": [
        "# **IMPORTING THE DATASET**\n",
        "# About the ideal length of stay for the best rates"
      ],
      "metadata": {
        "id": "nS9U6Q46Cvan"
      }
    },
    {
      "cell_type": "code",
      "execution_count": null,
      "metadata": {
        "id": "wXZuFfACMNmU"
      },
      "outputs": [],
      "source": [
        "import pandas as pd\n",
        "import numpy as np\n",
        "import matplotlib.pyplot as plt\n",
        "import seaborn as sns\n",
        "from sklearn.model_selection import train_test_split\n",
        "from sklearn.linear_model import LinearRegression\n",
        "from sklearn.metrics import mean_squared_error, r2_score\n"
      ]
    },
    {
      "cell_type": "markdown",
      "source": [
        "# Statics Intrigued by the factors that might lead to a surge in special\n"
      ],
      "metadata": {
        "id": "WAtEsNI5C2ab"
      }
    },
    {
      "cell_type": "code",
      "source": [
        "\n",
        "# Check for missing values\n",
        "print(df.isnull().sum())\n",
        "\n",
        "# Drop rows with missing values (or alternatively, fill missing values)\n",
        "df.dropna(inplace=True)\n",
        "\n",
        "# Check the data types of columns\n",
        "print(df.dtypes)\n",
        "\n",
        "# Print the available columns in the dataframe\n",
        "print(df.columns)\n",
        "\n",
        "# Convert date columns to datetime if necessary\n",
        "# Replace 'arrival_date_day_of_month' with the actual column name for arrival date\n",
        "df['arrival_date_day_of_month'] = pd.to_datetime(df['arrival_date_day_of_month'], format='%d')\n",
        "\n",
        "# Summary statistics\n",
        "print(df.describe())\n"
      ],
      "metadata": {
        "id": "HyMDXqysMi63",
        "colab": {
          "base_uri": "https://localhost:8080/"
        },
        "outputId": "1c220d8c-3638-446d-b171-5169356ac6f6"
      },
      "execution_count": null,
      "outputs": [
        {
          "output_type": "stream",
          "name": "stdout",
          "text": [
            "hotel                                  0\n",
            "is_canceled                            0\n",
            "lead_time                              0\n",
            "arrival_date_year                      0\n",
            "arrival_date_month                     0\n",
            "arrival_date_week_number               0\n",
            "arrival_date_day_of_month              0\n",
            "stays_in_weekend_nights                0\n",
            "stays_in_week_nights                   0\n",
            "adults                                 0\n",
            "children                               4\n",
            "babies                                 0\n",
            "meal                                   0\n",
            "country                              488\n",
            "market_segment                         0\n",
            "distribution_channel                   0\n",
            "is_repeated_guest                      0\n",
            "previous_cancellations                 0\n",
            "previous_bookings_not_canceled         0\n",
            "reserved_room_type                     0\n",
            "assigned_room_type                     0\n",
            "booking_changes                        0\n",
            "deposit_type                           0\n",
            "agent                              16340\n",
            "company                           112593\n",
            "days_in_waiting_list                   0\n",
            "customer_type                          0\n",
            "adr                                    0\n",
            "required_car_parking_spaces            0\n",
            "total_of_special_requests              0\n",
            "reservation_status                     0\n",
            "reservation_status_date                0\n",
            "dtype: int64\n",
            "hotel                              object\n",
            "is_canceled                         int64\n",
            "lead_time                           int64\n",
            "arrival_date_year                   int64\n",
            "arrival_date_month                 object\n",
            "arrival_date_week_number            int64\n",
            "arrival_date_day_of_month           int64\n",
            "stays_in_weekend_nights             int64\n",
            "stays_in_week_nights                int64\n",
            "adults                              int64\n",
            "children                          float64\n",
            "babies                              int64\n",
            "meal                               object\n",
            "country                            object\n",
            "market_segment                     object\n",
            "distribution_channel               object\n",
            "is_repeated_guest                   int64\n",
            "previous_cancellations              int64\n",
            "previous_bookings_not_canceled      int64\n",
            "reserved_room_type                 object\n",
            "assigned_room_type                 object\n",
            "booking_changes                     int64\n",
            "deposit_type                       object\n",
            "agent                             float64\n",
            "company                           float64\n",
            "days_in_waiting_list                int64\n",
            "customer_type                      object\n",
            "adr                               float64\n",
            "required_car_parking_spaces         int64\n",
            "total_of_special_requests           int64\n",
            "reservation_status                 object\n",
            "reservation_status_date            object\n",
            "dtype: object\n",
            "Index(['hotel', 'is_canceled', 'lead_time', 'arrival_date_year',\n",
            "       'arrival_date_month', 'arrival_date_week_number',\n",
            "       'arrival_date_day_of_month', 'stays_in_weekend_nights',\n",
            "       'stays_in_week_nights', 'adults', 'children', 'babies', 'meal',\n",
            "       'country', 'market_segment', 'distribution_channel',\n",
            "       'is_repeated_guest', 'previous_cancellations',\n",
            "       'previous_bookings_not_canceled', 'reserved_room_type',\n",
            "       'assigned_room_type', 'booking_changes', 'deposit_type', 'agent',\n",
            "       'company', 'days_in_waiting_list', 'customer_type', 'adr',\n",
            "       'required_car_parking_spaces', 'total_of_special_requests',\n",
            "       'reservation_status', 'reservation_status_date'],\n",
            "      dtype='object')\n",
            "       is_canceled   lead_time  arrival_date_year  arrival_date_week_number  \\\n",
            "count   217.000000  217.000000         217.000000                217.000000   \n",
            "mean      0.078341   40.520737        2015.465438                 38.198157   \n",
            "min       0.000000    0.000000        2015.000000                  1.000000   \n",
            "25%       0.000000   12.000000        2015.000000                 33.000000   \n",
            "50%       0.000000   27.000000        2015.000000                 45.000000   \n",
            "75%       0.000000   36.000000        2016.000000                 46.000000   \n",
            "max       1.000000  364.000000        2017.000000                 53.000000   \n",
            "std       0.269329   61.748375           0.720053                 12.890292   \n",
            "\n",
            "           arrival_date_day_of_month  stays_in_weekend_nights  \\\n",
            "count                            217                217.00000   \n",
            "mean   1900-01-10 19:47:50.046083072                  1.56682   \n",
            "min              1900-01-01 00:00:00                  0.00000   \n",
            "25%              1900-01-06 00:00:00                  0.00000   \n",
            "50%              1900-01-09 00:00:00                  2.00000   \n",
            "75%              1900-01-13 00:00:00                  2.00000   \n",
            "max              1900-01-31 00:00:00                  9.00000   \n",
            "std                              NaN                  1.49270   \n",
            "\n",
            "       stays_in_week_nights      adults    children  babies  \\\n",
            "count            217.000000  217.000000  217.000000   217.0   \n",
            "mean               4.631336    1.410138    0.036866     0.0   \n",
            "min                0.000000    1.000000    0.000000     0.0   \n",
            "25%                2.000000    1.000000    0.000000     0.0   \n",
            "50%                4.000000    1.000000    0.000000     0.0   \n",
            "75%                6.000000    2.000000    0.000000     0.0   \n",
            "max               21.000000    3.000000    2.000000     0.0   \n",
            "std                3.552846    0.520406    0.232788     0.0   \n",
            "\n",
            "       is_repeated_guest  previous_cancellations  \\\n",
            "count         217.000000              217.000000   \n",
            "mean            0.069124                0.009217   \n",
            "min             0.000000                0.000000   \n",
            "25%             0.000000                0.000000   \n",
            "50%             0.000000                0.000000   \n",
            "75%             0.000000                0.000000   \n",
            "max             1.000000                2.000000   \n",
            "std             0.254252                0.135769   \n",
            "\n",
            "       previous_bookings_not_canceled  booking_changes       agent  \\\n",
            "count                      217.000000       217.000000  217.000000   \n",
            "mean                         0.147465         1.285714  202.617512   \n",
            "min                          0.000000         0.000000    5.000000   \n",
            "25%                          0.000000         0.000000  185.000000   \n",
            "50%                          0.000000         1.000000  185.000000   \n",
            "75%                          0.000000         2.000000  324.000000   \n",
            "max                          7.000000         6.000000  444.000000   \n",
            "std                          0.717768         1.251454  111.487444   \n",
            "\n",
            "          company  days_in_waiting_list         adr  \\\n",
            "count  217.000000                 217.0  217.000000   \n",
            "mean   262.105991                   0.0   63.793733   \n",
            "min      9.000000                   0.0    0.000000   \n",
            "25%    281.000000                   0.0   40.000000   \n",
            "50%    281.000000                   0.0   48.000000   \n",
            "75%    281.000000                   0.0   85.000000   \n",
            "max    499.000000                   0.0  246.000000   \n",
            "std    103.602708                   0.0   38.823568   \n",
            "\n",
            "       required_car_parking_spaces  total_of_special_requests  \n",
            "count                   217.000000                 217.000000  \n",
            "mean                      0.092166                   0.198157  \n",
            "min                       0.000000                   0.000000  \n",
            "25%                       0.000000                   0.000000  \n",
            "50%                       0.000000                   0.000000  \n",
            "75%                       0.000000                   0.000000  \n",
            "max                       1.000000                   3.000000  \n",
            "std                       0.289929                   0.546365  \n"
          ]
        }
      ]
    },
    {
      "cell_type": "markdown",
      "source": [
        "# CORELATION MATRIX\n",
        "\n",
        "# How does the length of stay correlate with daily rates\n",
        "\n"
      ],
      "metadata": {
        "id": "OnMWIP9IDB4P"
      }
    },
    {
      "cell_type": "code",
      "source": [
        "\n",
        "import pandas as pd\n",
        "import numpy as np\n",
        "import matplotlib.pyplot as plt\n",
        "import seaborn as sns\n",
        "\n",
        "# Load the dataset\n",
        "df = pd.read_csv('/content/Hotel Bookings Ediglobe.csv')\n",
        "\n",
        "# Check if the expected columns are present in the dataset\n",
        "# Use actual column names from your dataset instead of 'datetime', 'length_of_stay', 'daily_rate'\n",
        "required_columns = ['arrival_date_year', 'stays_in_weekend_nights', 'adr']  # Example column names\n",
        "for col in required_columns:\n",
        "    if col not in df.columns:\n",
        "        print(f\"Error: Column '{col}' not found in the dataset.\")\n",
        "        raise ValueError(f\"Column '{col}' is missing.\")\n",
        "\n",
        "# Convert 'arrival_date_year' to datetime if it's not already\n",
        "# (adjust column name if needed)\n",
        "if not pd.api.types.is_datetime64_any_dtype(df['arrival_date_year']):\n",
        "    df['arrival_date_year'] = pd.to_datetime(df['arrival_date_year'], errors='coerce')\n",
        "\n",
        "# Drop rows with NaN values in important columns\n",
        "df.dropna(subset=required_columns, inplace=True)\n",
        "\n",
        "# Plot distribution of booking dates (adjust column name if needed)\n",
        "plt.figure(figsize=(10, 6))\n",
        "sns.histplot(df['arrival_date_year'], kde=True)\n",
        "plt.title('Distribution of Booking Dates')\n",
        "plt.show()\n",
        "\n",
        "# Relationship between length of stay and daily rate (adjust column names if needed)\n",
        "plt.figure(figsize=(10, 6))\n",
        "sns.scatterplot(x='stays_in_weekend_nights', y='adr', data=df) # Example column names\n",
        "plt.title('Length of Stay vs Daily Rate')\n",
        "plt.show()\n",
        "\n",
        "# Correlation matrix\n",
        "plt.figure(figsize=(10, 8))\n",
        "sns.heatmap(df.corr(), annot=True, fmt=\".2f\", cmap=\"coolwarm\")\n",
        "plt.title('Correlation Matrix')\n",
        "plt.show()\n",
        "\n",
        "\n",
        "\n",
        "\n",
        "\n",
        "\n"
      ],
      "metadata": {
        "id": "qr7d-PvUMizE",
        "colab": {
          "base_uri": "https://localhost:8080/",
          "height": 1000
        },
        "outputId": "5e72a35a-8db2-47ea-8018-f939f8165a9b"
      },
      "execution_count": null,
      "outputs": [
        {
          "output_type": "display_data",
          "data": {
            "text/plain": [
              "<Figure size 1000x600 with 1 Axes>"
            ],
            "image/png": "[encoded data removed]"
          },
          "metadata": {}
        },
        {
          "output_type": "display_data",
          "data": {
            "text/plain": [
              "<Figure size 1000x600 with 1 Axes>"
            ],
            "image/png": "[encoded data removed]"
          },
          "metadata": {}
        },
        {
          "output_type": "error",
          "ename": "ValueError",
          "evalue": "could not convert string to float: 'Resort Hotel'",
          "traceback": [
            "\u001b[0;31m---------------------------------------------------------------------------\u001b[0m",
            "\u001b[0;31mValueError\u001b[0m                                Traceback (most recent call last)",
            "\u001b[0;32m<ipython-input-9-88eb563cfcd5>\u001b[0m in \u001b[0;36m<cell line: 39>\u001b[0;34m()\u001b[0m\n\u001b[1;32m     37\u001b[0m \u001b[0;31m# Correlation matrix\u001b[0m\u001b[0;34m\u001b[0m\u001b[0;34m\u001b[0m\u001b[0m\n\u001b[1;32m     38\u001b[0m \u001b[0mplt\u001b[0m\u001b[0;34m.\u001b[0m\u001b[0mfigure\u001b[0m\u001b[0;34m(\u001b[0m\u001b[0mfigsize\u001b[0m\u001b[0;34m=\u001b[0m\u001b[0;34m(\u001b[0m\u001b[0;36m10\u001b[0m\u001b[0;34m,\u001b[0m \u001b[0;36m8\u001b[0m\u001b[0;34m)\u001b[0m\u001b[0;34m)\u001b[0m\u001b[0;34m\u001b[0m\u001b[0;34m\u001b[0m\u001b[0m\n\u001b[0;32m---> 39\u001b[0;31m \u001b[0msns\u001b[0m\u001b[0;34m.\u001b[0m\u001b[0mheatmap\u001b[0m\u001b[0;34m(\u001b[0m\u001b[0mdf\u001b[0m\u001b[0;34m.\u001b[0m\u001b[0mcorr\u001b[0m\u001b[0;34m(\u001b[0m\u001b[0;34m)\u001b[0m\u001b[0;34m,\u001b[0m \u001b[0mannot\u001b[0m\u001b[0;34m=\u001b[0m\u001b[0;32mTrue\u001b[0m\u001b[0;34m,\u001b[0m \u001b[0mfmt\u001b[0m\u001b[0;34m=\u001b[0m\u001b[0;34m\".2f\"\u001b[0m\u001b[0;34m,\u001b[0m \u001b[0mcmap\u001b[0m\u001b[0;34m=\u001b[0m\u001b[0;34m\"coolwarm\"\u001b[0m\u001b[0;34m)\u001b[0m\u001b[0;34m\u001b[0m\u001b[0;34m\u001b[0m\u001b[0m\n\u001b[0m\u001b[1;32m     40\u001b[0m \u001b[0mplt\u001b[0m\u001b[0;34m.\u001b[0m\u001b[0mtitle\u001b[0m\u001b[0;34m(\u001b[0m\u001b[0;34m'Correlation Matrix'\u001b[0m\u001b[0;34m)\u001b[0m\u001b[0;34m\u001b[0m\u001b[0;34m\u001b[0m\u001b[0m\n\u001b[1;32m     41\u001b[0m \u001b[0mplt\u001b[0m\u001b[0;34m.\u001b[0m\u001b[0mshow\u001b[0m\u001b[0;34m(\u001b[0m\u001b[0;34m)\u001b[0m\u001b[0;34m\u001b[0m\u001b[0;34m\u001b[0m\u001b[0m\n",
            "\u001b[0;32m/usr/local/lib/python3.10/dist-packages/pandas/core/frame.py\u001b[0m in \u001b[0;36mcorr\u001b[0;34m(self, method, min_periods, numeric_only)\u001b[0m\n\u001b[1;32m  10702\u001b[0m         \u001b[0mcols\u001b[0m \u001b[0;34m=\u001b[0m \u001b[0mdata\u001b[0m\u001b[0;34m.\u001b[0m\u001b[0mcolumns\u001b[0m\u001b[0;34m\u001b[0m\u001b[0;34m\u001b[0m\u001b[0m\n\u001b[1;32m  10703\u001b[0m         \u001b[0midx\u001b[0m \u001b[0;34m=\u001b[0m \u001b[0mcols\u001b[0m\u001b[0;34m.\u001b[0m\u001b[0mcopy\u001b[0m\u001b[0;34m(\u001b[0m\u001b[0;34m)\u001b[0m\u001b[0;34m\u001b[0m\u001b[0;34m\u001b[0m\u001b[0m\n\u001b[0;32m> 10704\u001b[0;31m         \u001b[0mmat\u001b[0m \u001b[0;34m=\u001b[0m \u001b[0mdata\u001b[0m\u001b[0;34m.\u001b[0m\u001b[0mto_numpy\u001b[0m\u001b[0;34m(\u001b[0m\u001b[0mdtype\u001b[0m\u001b[0;34m=\u001b[0m\u001b[0mfloat\u001b[0m\u001b[0;34m,\u001b[0m \u001b[0mna_value\u001b[0m\u001b[0;34m=\u001b[0m\u001b[0mnp\u001b[0m\u001b[0;34m.\u001b[0m\u001b[0mnan\u001b[0m\u001b[0;34m,\u001b[0m \u001b[0mcopy\u001b[0m\u001b[0;34m=\u001b[0m\u001b[0;32mFalse\u001b[0m\u001b[0;34m)\u001b[0m\u001b[0;34m\u001b[0m\u001b[0;34m\u001b[0m\u001b[0m\n\u001b[0m\u001b[1;32m  10705\u001b[0m \u001b[0;34m\u001b[0m\u001b[0m\n\u001b[1;32m  10706\u001b[0m         \u001b[0;32mif\u001b[0m \u001b[0mmethod\u001b[0m \u001b[0;34m==\u001b[0m \u001b[0;34m\"pearson\"\u001b[0m\u001b[0;34m:\u001b[0m\u001b[0;34m\u001b[0m\u001b[0;34m\u001b[0m\u001b[0m\n",
            "\u001b[0;32m/usr/local/lib/python3.10/dist-packages/pandas/core/frame.py\u001b[0m in \u001b[0;36mto_numpy\u001b[0;34m(self, dtype, copy, na_value)\u001b[0m\n\u001b[1;32m   1887\u001b[0m         \u001b[0;32mif\u001b[0m \u001b[0mdtype\u001b[0m \u001b[0;32mis\u001b[0m \u001b[0;32mnot\u001b[0m \u001b[0;32mNone\u001b[0m\u001b[0;34m:\u001b[0m\u001b[0;34m\u001b[0m\u001b[0;34m\u001b[0m\u001b[0m\n\u001b[1;32m   1888\u001b[0m             \u001b[0mdtype\u001b[0m \u001b[0;34m=\u001b[0m \u001b[0mnp\u001b[0m\u001b[0;34m.\u001b[0m\u001b[0mdtype\u001b[0m\u001b[0;34m(\u001b[0m\u001b[0mdtype\u001b[0m\u001b[0;34m)\u001b[0m\u001b[0;34m\u001b[0m\u001b[0;34m\u001b[0m\u001b[0m\n\u001b[0;32m-> 1889\u001b[0;31m         \u001b[0mresult\u001b[0m \u001b[0;34m=\u001b[0m \u001b[0mself\u001b[0m\u001b[0;34m.\u001b[0m\u001b[0m_mgr\u001b[0m\u001b[0;34m.\u001b[0m\u001b[0mas_array\u001b[0m\u001b[0;34m(\u001b[0m\u001b[0mdtype\u001b[0m\u001b[0;34m=\u001b[0m\u001b[0mdtype\u001b[0m\u001b[0;34m,\u001b[0m \u001b[0mcopy\u001b[0m\u001b[0;34m=\u001b[0m\u001b[0mcopy\u001b[0m\u001b[0;34m,\u001b[0m \u001b[0mna_value\u001b[0m\u001b[0;34m=\u001b[0m\u001b[0mna_value\u001b[0m\u001b[0;34m)\u001b[0m\u001b[0;34m\u001b[0m\u001b[0;34m\u001b[0m\u001b[0m\n\u001b[0m\u001b[1;32m   1890\u001b[0m         \u001b[0;32mif\u001b[0m \u001b[0mresult\u001b[0m\u001b[0;34m.\u001b[0m\u001b[0mdtype\u001b[0m \u001b[0;32mis\u001b[0m \u001b[0;32mnot\u001b[0m \u001b[0mdtype\u001b[0m\u001b[0;34m:\u001b[0m\u001b[0;34m\u001b[0m\u001b[0;34m\u001b[0m\u001b[0m\n\u001b[1;32m   1891\u001b[0m             \u001b[0mresult\u001b[0m \u001b[0;34m=\u001b[0m \u001b[0mnp\u001b[0m\u001b[0;34m.\u001b[0m\u001b[0marray\u001b[0m\u001b[0;34m(\u001b[0m\u001b[0mresult\u001b[0m\u001b[0;34m,\u001b[0m \u001b[0mdtype\u001b[0m\u001b[0;34m=\u001b[0m\u001b[0mdtype\u001b[0m\u001b[0;34m,\u001b[0m \u001b[0mcopy\u001b[0m\u001b[0;34m=\u001b[0m\u001b[0;32mFalse\u001b[0m\u001b[0;34m)\u001b[0m\u001b[0;34m\u001b[0m\u001b[0;34m\u001b[0m\u001b[0m\n",
            "\u001b[0;32m/usr/local/lib/python3.10/dist-packages/pandas/core/internals/managers.py\u001b[0m in \u001b[0;36mas_array\u001b[0;34m(self, dtype, copy, na_value)\u001b[0m\n\u001b[1;32m   1654\u001b[0m                 \u001b[0marr\u001b[0m\u001b[0;34m.\u001b[0m\u001b[0mflags\u001b[0m\u001b[0;34m.\u001b[0m\u001b[0mwriteable\u001b[0m \u001b[0;34m=\u001b[0m \u001b[0;32mFalse\u001b[0m\u001b[0;34m\u001b[0m\u001b[0;34m\u001b[0m\u001b[0m\n\u001b[1;32m   1655\u001b[0m         \u001b[0;32melse\u001b[0m\u001b[0;34m:\u001b[0m\u001b[0;34m\u001b[0m\u001b[0;34m\u001b[0m\u001b[0m\n\u001b[0;32m-> 1656\u001b[0;31m             \u001b[0marr\u001b[0m \u001b[0;34m=\u001b[0m \u001b[0mself\u001b[0m\u001b[0;34m.\u001b[0m\u001b[0m_interleave\u001b[0m\u001b[0;34m(\u001b[0m\u001b[0mdtype\u001b[0m\u001b[0;34m=\u001b[0m\u001b[0mdtype\u001b[0m\u001b[0;34m,\u001b[0m \u001b[0mna_value\u001b[0m\u001b[0;34m=\u001b[0m\u001b[0mna_value\u001b[0m\u001b[0;34m)\u001b[0m\u001b[0;34m\u001b[0m\u001b[0;34m\u001b[0m\u001b[0m\n\u001b[0m\u001b[1;32m   1657\u001b[0m             \u001b[0;31m# The underlying data was copied within _interleave, so no need\u001b[0m\u001b[0;34m\u001b[0m\u001b[0;34m\u001b[0m\u001b[0m\n\u001b[1;32m   1658\u001b[0m             \u001b[0;31m# to further copy if copy=True or setting na_value\u001b[0m\u001b[0;34m\u001b[0m\u001b[0;34m\u001b[0m\u001b[0m\n",
            "\u001b[0;32m/usr/local/lib/python3.10/dist-packages/pandas/core/internals/managers.py\u001b[0m in \u001b[0;36m_interleave\u001b[0;34m(self, dtype, na_value)\u001b[0m\n\u001b[1;32m   1713\u001b[0m             \u001b[0;32melse\u001b[0m\u001b[0;34m:\u001b[0m\u001b[0;34m\u001b[0m\u001b[0;34m\u001b[0m\u001b[0m\n\u001b[1;32m   1714\u001b[0m                 \u001b[0marr\u001b[0m \u001b[0;34m=\u001b[0m \u001b[0mblk\u001b[0m\u001b[0;34m.\u001b[0m\u001b[0mget_values\u001b[0m\u001b[0;34m(\u001b[0m\u001b[0mdtype\u001b[0m\u001b[0;34m)\u001b[0m\u001b[0;34m\u001b[0m\u001b[0;34m\u001b[0m\u001b[0m\n\u001b[0;32m-> 1715\u001b[0;31m             \u001b[0mresult\u001b[0m\u001b[0;34m[\u001b[0m\u001b[0mrl\u001b[0m\u001b[0;34m.\u001b[0m\u001b[0mindexer\u001b[0m\u001b[0;34m]\u001b[0m \u001b[0;34m=\u001b[0m \u001b[0marr\u001b[0m\u001b[0;34m\u001b[0m\u001b[0;34m\u001b[0m\u001b[0m\n\u001b[0m\u001b[1;32m   1716\u001b[0m             \u001b[0mitemmask\u001b[0m\u001b[0;34m[\u001b[0m\u001b[0mrl\u001b[0m\u001b[0;34m.\u001b[0m\u001b[0mindexer\u001b[0m\u001b[0;34m]\u001b[0m \u001b[0;34m=\u001b[0m \u001b[0;36m1\u001b[0m\u001b[0;34m\u001b[0m\u001b[0;34m\u001b[0m\u001b[0m\n\u001b[1;32m   1717\u001b[0m \u001b[0;34m\u001b[0m\u001b[0m\n",
            "\u001b[0;31mValueError\u001b[0m: could not convert string to float: 'Resort Hotel'"
          ]
        },
        {
          "output_type": "display_data",
          "data": {
            "text/plain": [
              "<Figure size 1000x800 with 0 Axes>"
            ]
          },
          "metadata": {}
        }
      ]
    },
    {
      "cell_type": "markdown",
      "source": [
        "# ACTUAL VS PREDICTED GRAPH\n"
      ],
      "metadata": {
        "id": "AN4J8npnDNnQ"
      }
    },
    {
      "cell_type": "markdown",
      "source": [
        "# What demographic factors influence booking patterns"
      ],
      "metadata": {
        "id": "aS_WJF0XEvQR"
      }
    },
    {
      "cell_type": "code",
      "source": [
        "\n",
        "# Print the available columns to verify their names\n",
        "print(df.columns)\n",
        "\n",
        "# Define features (X) and target (y)\n",
        "X = df[['arrival_date_day_of_month', 'stays_in_weekend_nights']]  # Example features\n",
        "y = df['lead_time']  # Example target\n",
        "\n",
        "# Split the data into training and testing sets\n",
        "from sklearn.model_selection import train_test_split # Import train_test_split\n",
        "X_train, X_test, y_train, y_test = train_test_split(X, y, test_size=0.3, random_state=42)\n",
        "\n",
        "# Initialize and train the model\n",
        "from sklearn.linear_model import LinearRegression # Import LinearRegression\n",
        "model = LinearRegression()\n",
        "model.fit(X_train, y_train)\n",
        "\n",
        "# Make predictions on the test set\n",
        "y_pred = model.predict(X_test)\n",
        "\n",
        "# Evaluate the model\n",
        "from sklearn.metrics import mean_squared_error, r2_score  # Import necessary functions\n",
        "\n",
        "mse = mean_squared_error(y_test, y_pred) # Removed extra space here\n",
        "r2 = r2_score(y_test, y_pred)\n",
        "\n",
        "print(f'Mean Squared Error: {mse}')\n",
        "print(f'R^2 Score: {r2}')\n",
        "\n",
        "# ... (rest of the code remains unchanged)\n",
        "\n",
        "# Plot actual vs predicted values\n",
        "plt.figure(figsize=(10, 6))\n",
        "plt.scatter(y_test, y_pred, alpha=0.5)\n",
        "plt.plot([y.min(), y.max()], [y.min(), y.max()], color='red', linewidth=2)\n",
        "plt.xlabel('Actual')\n",
        "plt.ylabel('Predicted')\n",
        "plt.title('Actual vs Predicted Daily Rates')\n",
        "plt.show()\n"
      ],
      "metadata": {
        "id": "7REsLQ6TNEiN",
        "colab": {
          "base_uri": "https://localhost:8080/",
          "height": 699
        },
        "outputId": "6b850bde-b1b8-44f7-ea95-a2c1faacfde4"
      },
      "execution_count": null,
      "outputs": [
        {
          "output_type": "stream",
          "name": "stdout",
          "text": [
            "Index(['hotel', 'is_canceled', 'lead_time', 'arrival_date_year',\n",
            "       'arrival_date_month', 'arrival_date_week_number',\n",
            "       'arrival_date_day_of_month', 'stays_in_weekend_nights',\n",
            "       'stays_in_week_nights', 'adults', 'children', 'babies', 'meal',\n",
            "       'country', 'market_segment', 'distribution_channel',\n",
            "       'is_repeated_guest', 'previous_cancellations',\n",
            "       'previous_bookings_not_canceled', 'reserved_room_type',\n",
            "       'assigned_room_type', 'booking_changes', 'deposit_type', 'agent',\n",
            "       'company', 'days_in_waiting_list', 'customer_type', 'adr',\n",
            "       'required_car_parking_spaces', 'total_of_special_requests',\n",
            "       'reservation_status', 'reservation_status_date'],\n",
            "      dtype='object')\n",
            "Mean Squared Error: 11339.388247471097\n",
            "R^2 Score: 0.006796229552766597\n"
          ]
        },
        {
          "output_type": "display_data",
          "data": {
            "text/plain": [
              "<Figure size 1000x600 with 1 Axes>"
            ],
            "image/png": "[encoded data removed]"
          },
          "metadata": {}
        }
      ]
    },
    {
      "cell_type": "markdown",
      "source": [
        "#Available Bookings"
      ],
      "metadata": {
        "id": "eyApSmAC2COY"
      }
    },
    {
      "cell_type": "code",
      "source": [
        "# Function to display available bookings\n",
        "def view_bookings(data):\n",
        "    print(\"Available Bookings:\")\n",
        "    print(data[['hotel', 'arrival_date_year', 'arrival_date_month', 'arrival_date_day_of_month', 'adults', 'children', 'babies', 'reserved_room_type', 'reservation_status']].head())"
      ],
      "metadata": {
        "id": "o04jTsz8NEVv"
      },
      "execution_count": null,
      "outputs": []
    },
    {
      "cell_type": "code",
      "source": [
        "# Function to filter bookings based on criteria\n",
        "def filter_bookings(data, year=None, month=None, room_type=None):\n",
        "    filtered_data = data\n",
        "    if year:\n",
        "        filtered_data = filtered_data[filtered_data['arrival_date_year'] == year]\n",
        "    if month:\n",
        "        filtered_data = filtered_data[filtered_data['arrival_date_month'] == month]\n",
        "    if room_type:\n",
        "        filtered_data = filtered_data[filtered_data['reserved_room_type'] == room_type]\n",
        "    return filtered_data[['hotel', 'arrival_date_year', 'arrival_date_month', 'arrival_date_day_of_month', 'adults', 'children', 'babies', 'reserved_room_type', 'reservation_status']]"
      ],
      "metadata": {
        "id": "XI1TNrCZNEMc"
      },
      "execution_count": null,
      "outputs": []
    },
    {
      "cell_type": "markdown",
      "source": [
        "#New bookings"
      ],
      "metadata": {
        "id": "Bo_wKlwr2PSS"
      }
    },
    {
      "cell_type": "code",
      "source": [
        "# Function to add a new booking\n",
        "def add_booking(data, booking_details):\n",
        "    new_booking = pd.DataFrame([booking_details], columns=data.columns)\n",
        "    updated_data = pd.concat([data, new_booking], ignore_index=True)\n",
        "    return updated_data"
      ],
      "metadata": {
        "id": "00huOk6AND9i"
      },
      "execution_count": null,
      "outputs": []
    },
    {
      "cell_type": "markdown",
      "source": [
        "#Cancel Bookings"
      ],
      "metadata": {
        "id": "2IvLSloG2TSo"
      }
    },
    {
      "cell_type": "code",
      "source": [
        "# Function to cancel a booking\n",
        "def cancel_booking(data, booking_id):\n",
        "    data.loc[booking_id, 'is_canceled'] = 1\n",
        "    data.loc[booking_id, 'reservation_status'] = 'Canceled'\n",
        "    return data"
      ],
      "metadata": {
        "id": "eGi0FyvT1CFZ"
      },
      "execution_count": null,
      "outputs": []
    },
    {
      "cell_type": "markdown",
      "source": [
        "#Hotel First few Bookings"
      ],
      "metadata": {
        "id": "CUttSeeu2Xvj"
      }
    },
    {
      "cell_type": "code",
      "source": [
        "# # Display the first few bookings\n",
        "# view_bookings(hotel_data)\n",
        "\n",
        "import pandas as pd # Import pandas for data manipulation\n",
        "\n",
        "# Assuming the hotel data is in a CSV file named 'hotel_bookings.csv'\n",
        "hotel_data = pd.read_csv('/content/Hotel Bookings Ediglobe.csv')\n",
        "\n",
        "# Display the first few bookings\n",
        "view_bookings(hotel_data)"
      ],
      "metadata": {
        "colab": {
          "base_uri": "https://localhost:8080/"
        },
        "id": "XUqxMFBl1B4p",
        "outputId": "5e95e3bf-58d6-4021-de29-fa23f9453805"
      },
      "execution_count": null,
      "outputs": [
        {
          "output_type": "stream",
          "name": "stdout",
          "text": [
            "Available Bookings:\n",
            "          hotel  arrival_date_year arrival_date_month  \\\n",
            "0  Resort Hotel               2015               July   \n",
            "1  Resort Hotel               2015               July   \n",
            "2  Resort Hotel               2015               July   \n",
            "3  Resort Hotel               2015               July   \n",
            "4  Resort Hotel               2015               July   \n",
            "\n",
            "   arrival_date_day_of_month  adults  children  babies reserved_room_type  \\\n",
            "0                          1       2       0.0       0                  C   \n",
            "1                          1       2       0.0       0                  C   \n",
            "2                          1       1       0.0       0                  A   \n",
            "3                          1       1       0.0       0                  A   \n",
            "4                          1       2       0.0       0                  A   \n",
            "\n",
            "  reservation_status  \n",
            "0          Check-Out  \n",
            "1          Check-Out  \n",
            "2          Check-Out  \n",
            "3          Check-Out  \n",
            "4          Check-Out  \n"
          ]
        }
      ]
    },
    {
      "cell_type": "markdown",
      "source": [
        "#Bookings of July 2015"
      ],
      "metadata": {
        "id": "tJry0U1K2eaU"
      }
    },
    {
      "cell_type": "code",
      "source": [
        "# Example: Filter bookings for July 2015\n",
        "filtered_bookings = filter_bookings(hotel_data, year=2015, month='July')\n",
        "print(\"\\nFiltered Bookings (July 2015):\")\n",
        "print(filtered_bookings.head())\n"
      ],
      "metadata": {
        "colab": {
          "base_uri": "https://localhost:8080/"
        },
        "id": "v38Zyikj1Bqs",
        "outputId": "acb6fa9f-7533-4f17-c832-e088e46d09be"
      },
      "execution_count": null,
      "outputs": [
        {
          "output_type": "stream",
          "name": "stdout",
          "text": [
            "\n",
            "Filtered Bookings (July 2015):\n",
            "          hotel  arrival_date_year arrival_date_month  \\\n",
            "0  Resort Hotel               2015               July   \n",
            "1  Resort Hotel               2015               July   \n",
            "2  Resort Hotel               2015               July   \n",
            "3  Resort Hotel               2015               July   \n",
            "4  Resort Hotel               2015               July   \n",
            "\n",
            "   arrival_date_day_of_month  adults  children  babies reserved_room_type  \\\n",
            "0                          1       2       0.0       0                  C   \n",
            "1                          1       2       0.0       0                  C   \n",
            "2                          1       1       0.0       0                  A   \n",
            "3                          1       1       0.0       0                  A   \n",
            "4                          1       2       0.0       0                  A   \n",
            "\n",
            "  reservation_status  \n",
            "0          Check-Out  \n",
            "1          Check-Out  \n",
            "2          Check-Out  \n",
            "3          Check-Out  \n",
            "4          Check-Out  \n"
          ]
        }
      ]
    },
    {
      "cell_type": "code",
      "source": [
        "# Example: Add a new booking\n",
        "new_booking = {\n",
        "    'hotel': 'City Hotel', 'is_canceled': 0, 'lead_time': 15, 'arrival_date_year': 2024,\n",
        "    'arrival_date_month': 'September', 'arrival_date_week_number': 36,\n",
        "    'arrival_date_day_of_month': 5, 'stays_in_weekend_nights': 2, 'stays_in_week_nights': 3,\n",
        "    'adults': 2, 'children': 0, 'babies': 0, 'meal': 'BB', 'country': 'USA',\n",
        "    'market_segment': 'Online TA', 'distribution_channel': 'TA/TO',\n",
        "    'is_repeated_guest': 0, 'previous_cancellations': 0,\n",
        "    'previous_bookings_not_canceled': 0, 'reserved_room_type': 'A',\n",
        "    'assigned_room_type': 'A', 'booking_changes': 0, 'deposit_type': 'No Deposit',\n",
        "    'agent': None, 'company': None, 'days_in_waiting_list': 0, 'customer_type': 'Transient',\n",
        "    'adr': 150.0, 'required_car_parking_spaces': 1, 'total_of_special_requests': 2,\n",
        "    'reservation_status': 'Check-Out', 'reservation_status_date': '2024-09-10'\n",
        "}"
      ],
      "metadata": {
        "id": "yIOglwfx1VGz"
      },
      "execution_count": null,
      "outputs": []
    },
    {
      "cell_type": "markdown",
      "source": [
        "#Hotel data"
      ],
      "metadata": {
        "id": "PJ6cyI-w2l6J"
      }
    },
    {
      "cell_type": "code",
      "source": [
        "hotel_data = add_booking(hotel_data, new_booking)\n",
        "print(\"\\nBookings after adding a new one:\")\n",
        "view_bookings(hotel_data)"
      ],
      "metadata": {
        "colab": {
          "base_uri": "https://localhost:8080/"
        },
        "id": "HyqXgoz61U5r",
        "outputId": "5749da4f-138f-4427-b46a-450529f45dc6"
      },
      "execution_count": null,
      "outputs": [
        {
          "output_type": "stream",
          "name": "stdout",
          "text": [
            "\n",
            "Bookings after adding a new one:\n",
            "Available Bookings:\n",
            "          hotel  arrival_date_year arrival_date_month  \\\n",
            "0  Resort Hotel               2015               July   \n",
            "1  Resort Hotel               2015               July   \n",
            "2  Resort Hotel               2015               July   \n",
            "3  Resort Hotel               2015               July   \n",
            "4  Resort Hotel               2015               July   \n",
            "\n",
            "   arrival_date_day_of_month  adults  children  babies reserved_room_type  \\\n",
            "0                          1       2       0.0       0                  C   \n",
            "1                          1       2       0.0       0                  C   \n",
            "2                          1       1       0.0       0                  A   \n",
            "3                          1       1       0.0       0                  A   \n",
            "4                          1       2       0.0       0                  A   \n",
            "\n",
            "  reservation_status  \n",
            "0          Check-Out  \n",
            "1          Check-Out  \n",
            "2          Check-Out  \n",
            "3          Check-Out  \n",
            "4          Check-Out  \n"
          ]
        },
        {
          "output_type": "stream",
          "name": "stderr",
          "text": [
            "<ipython-input-4-a6cedae9bc9a>:4: FutureWarning: The behavior of DataFrame concatenation with empty or all-NA entries is deprecated. In a future version, this will no longer exclude empty or all-NA columns when determining the result dtypes. To retain the old behavior, exclude the relevant entries before the concat operation.\n",
            "  updated_data = pd.concat([data, new_booking], ignore_index=True)\n"
          ]
        }
      ]
    },
    {
      "cell_type": "markdown",
      "source": [
        "#Cancel bookings"
      ],
      "metadata": {
        "id": "E0PKfns12seA"
      }
    },
    {
      "cell_type": "code",
      "source": [
        "# Example: Cancel a booking (e.g., the first booking in the list)\n",
        "hotel_data = cancel_booking(hotel_data, booking_id=0)\n",
        "print(\"\\nBookings after canceling the first booking:\")\n",
        "view_bookings(hotel_data)"
      ],
      "metadata": {
        "colab": {
          "base_uri": "https://localhost:8080/"
        },
        "id": "yGeAyZW71UrH",
        "outputId": "4cfb8afa-028d-4902-8dc0-e7e6f3c91d98"
      },
      "execution_count": null,
      "outputs": [
        {
          "output_type": "stream",
          "name": "stdout",
          "text": [
            "\n",
            "Bookings after canceling the first booking:\n",
            "Available Bookings:\n",
            "          hotel  arrival_date_year arrival_date_month  \\\n",
            "0  Resort Hotel               2015               July   \n",
            "1  Resort Hotel               2015               July   \n",
            "2  Resort Hotel               2015               July   \n",
            "3  Resort Hotel               2015               July   \n",
            "4  Resort Hotel               2015               July   \n",
            "\n",
            "   arrival_date_day_of_month  adults  children  babies reserved_room_type  \\\n",
            "0                          1       2       0.0       0                  C   \n",
            "1                          1       2       0.0       0                  C   \n",
            "2                          1       1       0.0       0                  A   \n",
            "3                          1       1       0.0       0                  A   \n",
            "4                          1       2       0.0       0                  A   \n",
            "\n",
            "  reservation_status  \n",
            "0           Canceled  \n",
            "1          Check-Out  \n",
            "2          Check-Out  \n",
            "3          Check-Out  \n",
            "4          Check-Out  \n"
          ]
        }
      ]
    },
    {
      "cell_type": "markdown",
      "source": [
        "#Average Rate of hotel room"
      ],
      "metadata": {
        "id": "9xalIEj0BlIU"
      }
    },
    {
      "cell_type": "code",
      "source": [
        "# 1. Calculate Average Daily Rate (ADR)\n",
        "def calculate_adr(data, year=None, month=None):\n",
        "    filtered_data = filter_bookings(data, year, month)\n",
        "    adr = filtered_data['adr'].mean()\n",
        "    return adr"
      ],
      "metadata": {
        "id": "0dZg4c9F-3-a"
      },
      "execution_count": null,
      "outputs": []
    },
    {
      "cell_type": "markdown",
      "source": [
        "#Availability of Rooms"
      ],
      "metadata": {
        "id": "WaYSY8ffBvDN"
      }
    },
    {
      "cell_type": "code",
      "source": [
        "# 2. Check Room Availability\n",
        "def check_room_availability(data, year, month, day, room_type):\n",
        "    filtered_data = data[(data['arrival_date_year'] == year) &\n",
        "                         (data['arrival_date_month'] == month) &\n",
        "                         (data['arrival_date_day_of_month'] == day) &\n",
        "                         (data['reserved_room_type'] == room_type) &\n",
        "                         (data['reservation_status'] != 'Canceled')]\n",
        "    return len(filtered_data) == 0  # True if no booking found for that room type on the given date"
      ],
      "metadata": {
        "id": "y1hONKjP-30Z"
      },
      "execution_count": null,
      "outputs": []
    },
    {
      "cell_type": "markdown",
      "source": [
        "#Statistics"
      ],
      "metadata": {
        "id": "PsRCTh6HB1ef"
      }
    },
    {
      "cell_type": "code",
      "source": [
        "# 3. Summarize Booking Statistics\n",
        "def booking_statistics(data):\n",
        "    total_bookings = len(data)\n",
        "    cancellations = data['is_canceled'].sum()\n",
        "    avg_lead_time = data['lead_time'].mean()\n",
        "    most_popular_room = data['reserved_room_type'].mode()[0]\n",
        "\n",
        "    print(f\"Total Bookings: {total_bookings}\")\n",
        "    print(f\"Cancellations: {cancellations}\")\n",
        "    print(f\"Average Lead Time: {avg_lead_time:.2f} days\")\n",
        "    print(f\"Most Popular Room Type: {most_popular_room}\")"
      ],
      "metadata": {
        "id": "JFXN2no0-3qK"
      },
      "execution_count": null,
      "outputs": []
    },
    {
      "cell_type": "code",
      "source": [
        "# 4. Find the Most Popular Room Type\n",
        "def most_popular_room_type(data):\n",
        "    popular_room = data['reserved_room_type'].mode()[0]\n",
        "    count = data[data['reserved_room_type'] == popular_room].shape[0]\n",
        "    return popular_room, count"
      ],
      "metadata": {
        "id": "jhA_GCUY_Mtr"
      },
      "execution_count": null,
      "outputs": []
    },
    {
      "cell_type": "code",
      "source": [
        "# Example usages\n",
        "view_bookings(hotel_data)"
      ],
      "metadata": {
        "colab": {
          "base_uri": "https://localhost:8080/"
        },
        "id": "Mhkzvfgv_Mfv",
        "outputId": "6fab4958-2f07-46be-f7bf-d6daa100b767"
      },
      "execution_count": null,
      "outputs": [
        {
          "output_type": "stream",
          "name": "stdout",
          "text": [
            "Available Bookings:\n",
            "          hotel  arrival_date_year arrival_date_month  \\\n",
            "0  Resort Hotel               2015               July   \n",
            "1  Resort Hotel               2015               July   \n",
            "2  Resort Hotel               2015               July   \n",
            "3  Resort Hotel               2015               July   \n",
            "4  Resort Hotel               2015               July   \n",
            "\n",
            "   arrival_date_day_of_month  adults  children  babies reserved_room_type  \\\n",
            "0                          1       2       0.0       0                  C   \n",
            "1                          1       2       0.0       0                  C   \n",
            "2                          1       1       0.0       0                  A   \n",
            "3                          1       1       0.0       0                  A   \n",
            "4                          1       2       0.0       0                  A   \n",
            "\n",
            "  reservation_status  \n",
            "0           Canceled  \n",
            "1          Check-Out  \n",
            "2          Check-Out  \n",
            "3          Check-Out  \n",
            "4          Check-Out  \n"
          ]
        }
      ]
    },
    {
      "cell_type": "markdown",
      "source": [
        "#July Room Availaibility"
      ],
      "metadata": {
        "id": "TtEAp9tZB9SF"
      }
    },
    {
      "cell_type": "code",
      "source": [
        "# Check room availability for room type 'A' on 1st July 2015\n",
        "is_available = check_room_availability(hotel_data, year=2015, month='July', day=1, room_type='A')\n",
        "print(f\"\\nRoom type 'A' availability on 1st July 2015: {'Available' if is_available else 'Not Available'}\")\n"
      ],
      "metadata": {
        "colab": {
          "base_uri": "https://localhost:8080/"
        },
        "id": "abtmYOOA_d07",
        "outputId": "0b3ec759-139e-404f-c64c-1d7ebc8b1215"
      },
      "execution_count": null,
      "outputs": [
        {
          "output_type": "stream",
          "name": "stdout",
          "text": [
            "\n",
            "Room type 'A' availability on 1st July 2015: Not Available\n"
          ]
        }
      ]
    },
    {
      "cell_type": "code",
      "source": [
        "# Display booking statistics\n",
        "print(\"\\nBooking Statistics:\")\n",
        "booking_statistics(hotel_data)"
      ],
      "metadata": {
        "colab": {
          "base_uri": "https://localhost:8080/"
        },
        "id": "5bVdcb2F_dn-",
        "outputId": "647ff72f-b0f3-47cf-8f3e-dec06678dadf"
      },
      "execution_count": null,
      "outputs": [
        {
          "output_type": "stream",
          "name": "stdout",
          "text": [
            "\n",
            "Booking Statistics:\n",
            "Total Bookings: 119391\n",
            "Cancellations: 44225\n",
            "Average Lead Time: 104.01 days\n",
            "Most Popular Room Type: A\n"
          ]
        }
      ]
    },
    {
      "cell_type": "markdown",
      "source": [
        "#A IS MOST POPULAR ROOM"
      ],
      "metadata": {
        "id": "YZydkFyqCGy2"
      }
    },
    {
      "cell_type": "code",
      "source": [
        " #Find the most popular room type\n",
        "popular_room, count = most_popular_room_type(hotel_data)\n",
        "print(f\"\\nMost Popular Room Type: {popular_room} with {count} bookings\")"
      ],
      "metadata": {
        "colab": {
          "base_uri": "https://localhost:8080/"
        },
        "id": "MoOBMhC5_uv-",
        "outputId": "2e9fc459-f9d4-43b3-8c03-1f2d58b86fbd"
      },
      "execution_count": null,
      "outputs": [
        {
          "output_type": "stream",
          "name": "stdout",
          "text": [
            "\n",
            "Most Popular Room Type: A with 85995 bookings\n"
          ]
        }
      ]
    },
    {
      "cell_type": "code",
      "source": [],
      "metadata": {
        "id": "0HHKlurr_uiz"
      },
      "execution_count": null,
      "outputs": []
    }
  ]
}